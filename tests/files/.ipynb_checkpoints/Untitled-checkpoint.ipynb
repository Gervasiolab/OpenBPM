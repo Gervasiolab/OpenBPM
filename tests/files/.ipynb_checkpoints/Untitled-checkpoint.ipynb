{
 "cells": [
  {
   "cell_type": "code",
   "execution_count": 2,
   "id": "93f425ca",
   "metadata": {},
   "outputs": [],
   "source": [
    "# The rest\n",
    "import argparse\n",
    "import numpy as np\n",
    "import MDAnalysis as mda\n",
    "from MDAnalysis.analysis import align, rms, contacts\n",
    "import mdtraj as md\n",
    "import pandas as pd\n",
    "# import parmed as pmd\n",
    "import os"
   ]
  },
  {
   "cell_type": "code",
   "execution_count": 4,
   "id": "e3bf59d8",
   "metadata": {},
   "outputs": [],
   "source": [
    "def get_contact_score(structure_file, trajectory_file, lig_resname='MOL'):\n",
    "    \"\"\"doc string\"\"\"\n",
    "    u = mda.Universe(structure_file, trajectory_file)\n",
    "\n",
    "    sel_donor = f\"resname {lig_resname} and not name *H*\"\n",
    "    sel_acceptor = f\"protein and not name H* and \\\n",
    "                     around 5 resname {lig_resname}\"\n",
    "\n",
    "    # reference groups (first frame of the trajectory, but you could also use\n",
    "    # a separate PDB, eg crystal structure)\n",
    "    a_donors = u.select_atoms(sel_donor)\n",
    "    a_acceptors = u.select_atoms(sel_acceptor)\n",
    "\n",
    "    cont_analysis = contacts.Contacts(u, select=(sel_donor, sel_acceptor),\n",
    "                                      refgroup=(a_donors, a_acceptors),\n",
    "                                      radius=3.5)\n",
    "\n",
    "    cont_analysis.run()\n",
    "    # print number of average contacts in the first ns\n",
    "    # NOTE - hard coded number of frames (100 per traj)\n",
    "    first_ns_mean = np.mean(cont_analysis.timeseries[1:10, 1])\n",
    "    if first_ns_mean == 0:\n",
    "        normed_contacts = cont_analysis.timeseries[1:, 1]\n",
    "    else:\n",
    "        normed_contacts = cont_analysis.timeseries[1:, 1]/first_ns_mean\n",
    "    \n",
    "    contact_scores = np.where(normed_contacts > 1, 1, normed_contacts)\n",
    "\n",
    "    return contact_scores\n",
    "\n",
    "\n",
    "def get_pose_score(structure_file, trajectory_file, lig_resname='MOL'):\n",
    "    \"\"\"doc string\"\"\"\n",
    "    u = mda.Universe(structure_file, trajectory_file)\n",
    "\n",
    "    r = rms.RMSD(u, select='backbone',\n",
    "                 groupselections=[f'resname {lig_resname} and not name H*'],\n",
    "                 ref_frame=0).run()\n",
    "    pose_scores = r.rmsd[1:, -1]\n",
    "\n",
    "    return pose_scores"
   ]
  },
  {
   "cell_type": "code",
   "execution_count": 19,
   "id": "44968914",
   "metadata": {},
   "outputs": [],
   "source": [
    "PoseScoreArr = get_pose_score(f'solute.pdb',\n",
    "                              f'solute.dcd',\n",
    "                              lig_resname)\n",
    "\n",
    "ContactScoreArr = get_contact_score(f'solute.pdb',\n",
    "                                    f'solute.dcd',\n",
    "                                    lig_resname)"
   ]
  }
 ],
 "metadata": {
  "kernelspec": {
   "display_name": "Python 3",
   "language": "python",
   "name": "python3"
  },
  "language_info": {
   "codemirror_mode": {
    "name": "ipython",
    "version": 3
   },
   "file_extension": ".py",
   "mimetype": "text/x-python",
   "name": "python",
   "nbconvert_exporter": "python",
   "pygments_lexer": "ipython3",
   "version": "3.8.8"
  }
 },
 "nbformat": 4,
 "nbformat_minor": 5
}
